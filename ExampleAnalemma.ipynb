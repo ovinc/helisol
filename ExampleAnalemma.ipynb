{
 "cells": [
  {
   "cell_type": "code",
   "execution_count": 1,
   "metadata": {},
   "outputs": [],
   "source": [
    "from helisol import SunObservation, Time\n",
    "from datetime import datetime, date, time, timedelta"
   ]
  },
  {
   "cell_type": "markdown",
   "metadata": {},
   "source": [
    "Here we plot the analemma (linked to the equation of time), i.e. the position of the sun at a given time (UTC) every day throughout the year"
   ]
  },
  {
   "cell_type": "code",
   "execution_count": 2,
   "metadata": {},
   "outputs": [],
   "source": [
    "coords = (47, 2)\n",
    "observ_time = time(12, 0, 0)"
   ]
  },
  {
   "cell_type": "code",
   "execution_count": 3,
   "metadata": {},
   "outputs": [],
   "source": [
    "d0 = date(2023, 1, 1)\n",
    "\n",
    "# Every day of the year\n",
    "heights = []\n",
    "azimuths = []\n",
    "for i in range(366):\n",
    "    d = datetime.combine(d0, observ_time) + timedelta(days=i)\n",
    "    obs = SunObservation(coords, utc_time=d)\n",
    "    heights.append(obs.height.degrees)\n",
    "    azimuths.append(obs.azimuth.degrees)\n",
    "    \n",
    "# Specific points (solstices, equinoxes)\n",
    "equinoxes = date(2023, 3, 20), date(2023, 9, 23)\n",
    "solstices = date(2023, 6, 21), date(2023, 12, 21)\n",
    "hpts = []\n",
    "azpts = []\n",
    "for dpt in equinoxes + solstices:\n",
    "    d = datetime.combine(dpt, observ_time) + timedelta(days=i)\n",
    "    obs = SunObservation(coords, utc_time=d)\n",
    "    hpts.append(obs.height.degrees)\n",
    "    azpts.append(obs.azimuth.degrees)"
   ]
  },
  {
   "cell_type": "code",
   "execution_count": 4,
   "metadata": {},
   "outputs": [
    {
     "data": {
      "image/png": "[encoded data removed]",
      "text/plain": [
       "<Figure size 432x288 with 1 Axes>"
      ]
     },
     "metadata": {
      "needs_background": "light"
     },
     "output_type": "display_data"
    }
   ],
   "source": [
    "fig, ax = plt.subplots()\n",
    "ax.plot(azimuths, heights)\n",
    "ax.plot(azpts, hpts, 'ok')\n",
    "ax.axis('equal')\n",
    "ax.set_xlabel('Azimuth (°)')\n",
    "ax.set_ylabel('Height (°)')\n",
    "ax.set_title(f'Analemma for {coords} at {observ_time}')\n",
    "ax.grid()"
   ]
  },
  {
   "cell_type": "code",
   "execution_count": null,
   "metadata": {},
   "outputs": [],
   "source": []
  }
 ],
 "metadata": {
  "kernelspec": {
   "display_name": "Python 3",
   "language": "python",
   "name": "python3"
  },
  "language_info": {
   "codemirror_mode": {
    "name": "ipython",
    "version": 3
   },
   "file_extension": ".py",
   "mimetype": "text/x-python",
   "name": "python",
   "nbconvert_exporter": "python",
   "pygments_lexer": "ipython3",
   "version": "3.8.5"
  }
 },
 "nbformat": 4,
 "nbformat_minor": 4
}
